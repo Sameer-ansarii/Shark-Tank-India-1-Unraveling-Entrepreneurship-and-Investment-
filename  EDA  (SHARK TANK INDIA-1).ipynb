{
 "cells": [
  {
   "cell_type": "markdown",
   "id": "0ded5c14",
   "metadata": {},
   "source": [
    "## Research Questions:-\n",
    "\n",
    "    Q1. Find the number of episodes?\n",
    "\n",
    "    Q2. Max, min , mean of asked amount,asked equity, asked valuation? \n",
    "\n",
    "    Q3. Max & Min asked- equity,asked-valuation and asked amount episode-wise? \n",
    "\n",
    "    Q4. Brand names in which 2 ,3 or 4 sharks are invested? \n",
    "\n",
    "    Q5. Episode wise minimum and maximum of sharks invested? \n",
    "\n",
    "    Q6. Minimum and Maximum sharks invested in each brand? \n",
    "\n",
    "    Q7. Brand names who ask for 1 crore and got a deal? \n",
    "\n",
    "    Q8. Brand names where deal equity is between 0 to 50? \n",
    "\n",
    "    Q9. Find the number of brands participated in each episode? \n",
    "\n",
    "    Q10. How many sharks participated in this show and What were their names? \n",
    "\n",
    "    Q11. Find appearance of each sharks? \n",
    "\n",
    "    Q12. How many entrepreneurs were present? \n",
    "\n",
    "    Q13. How many times each shark invested the deal? \n",
    "    \n",
    "    Q14. Find the equity percent that each sharks gets? \n",
    "\n",
    "    Q15. Find the total number of amount invested in this show? "
   ]
  },
  {
   "cell_type": "code",
   "execution_count": 1,
   "id": "e1325750",
   "metadata": {},
   "outputs": [],
   "source": [
    "import pandas as pd"
   ]
  },
  {
   "cell_type": "code",
   "execution_count": 2,
   "id": "4ff16034",
   "metadata": {},
   "outputs": [
    {
     "data": {
      "text/html": [
       "<div>\n",
       "<style scoped>\n",
       "    .dataframe tbody tr th:only-of-type {\n",
       "        vertical-align: middle;\n",
       "    }\n",
       "\n",
       "    .dataframe tbody tr th {\n",
       "        vertical-align: top;\n",
       "    }\n",
       "\n",
       "    .dataframe thead th {\n",
       "        text-align: right;\n",
       "    }\n",
       "</style>\n",
       "<table border=\"1\" class=\"dataframe\">\n",
       "  <thead>\n",
       "    <tr style=\"text-align: right;\">\n",
       "      <th></th>\n",
       "      <th>episode_number</th>\n",
       "      <th>pitch_number</th>\n",
       "      <th>brand_name</th>\n",
       "      <th>idea</th>\n",
       "      <th>deal</th>\n",
       "      <th>pitcher_ask_amount</th>\n",
       "      <th>ask_equity</th>\n",
       "      <th>ask_valuation</th>\n",
       "      <th>deal_amount</th>\n",
       "      <th>deal_equity</th>\n",
       "      <th>...</th>\n",
       "      <th>ashneer_deal</th>\n",
       "      <th>anupam_deal</th>\n",
       "      <th>aman_deal</th>\n",
       "      <th>namita_deal</th>\n",
       "      <th>vineeta_deal</th>\n",
       "      <th>peyush_deal</th>\n",
       "      <th>ghazal_deal</th>\n",
       "      <th>total_sharks_invested</th>\n",
       "      <th>amount_per_shark</th>\n",
       "      <th>equity_per_shark</th>\n",
       "    </tr>\n",
       "  </thead>\n",
       "  <tbody>\n",
       "    <tr>\n",
       "      <th>0</th>\n",
       "      <td>1</td>\n",
       "      <td>1</td>\n",
       "      <td>BluePine Industries</td>\n",
       "      <td>Frozen Momos</td>\n",
       "      <td>1</td>\n",
       "      <td>50.0</td>\n",
       "      <td>5.0</td>\n",
       "      <td>1000.00</td>\n",
       "      <td>75.0</td>\n",
       "      <td>16.00</td>\n",
       "      <td>...</td>\n",
       "      <td>1</td>\n",
       "      <td>0</td>\n",
       "      <td>1</td>\n",
       "      <td>0</td>\n",
       "      <td>1</td>\n",
       "      <td>0</td>\n",
       "      <td>0</td>\n",
       "      <td>3</td>\n",
       "      <td>25.0</td>\n",
       "      <td>5.333333</td>\n",
       "    </tr>\n",
       "    <tr>\n",
       "      <th>1</th>\n",
       "      <td>1</td>\n",
       "      <td>2</td>\n",
       "      <td>Booz scooters</td>\n",
       "      <td>Renting e-bike for mobility in private spaces</td>\n",
       "      <td>1</td>\n",
       "      <td>40.0</td>\n",
       "      <td>15.0</td>\n",
       "      <td>266.67</td>\n",
       "      <td>40.0</td>\n",
       "      <td>50.00</td>\n",
       "      <td>...</td>\n",
       "      <td>1</td>\n",
       "      <td>0</td>\n",
       "      <td>0</td>\n",
       "      <td>0</td>\n",
       "      <td>1</td>\n",
       "      <td>0</td>\n",
       "      <td>0</td>\n",
       "      <td>2</td>\n",
       "      <td>20.0</td>\n",
       "      <td>25.000000</td>\n",
       "    </tr>\n",
       "    <tr>\n",
       "      <th>2</th>\n",
       "      <td>1</td>\n",
       "      <td>3</td>\n",
       "      <td>Heart up my Sleeves</td>\n",
       "      <td>Detachable Sleeves</td>\n",
       "      <td>1</td>\n",
       "      <td>25.0</td>\n",
       "      <td>10.0</td>\n",
       "      <td>250.00</td>\n",
       "      <td>25.0</td>\n",
       "      <td>30.00</td>\n",
       "      <td>...</td>\n",
       "      <td>0</td>\n",
       "      <td>1</td>\n",
       "      <td>0</td>\n",
       "      <td>0</td>\n",
       "      <td>1</td>\n",
       "      <td>0</td>\n",
       "      <td>0</td>\n",
       "      <td>2</td>\n",
       "      <td>12.5</td>\n",
       "      <td>15.000000</td>\n",
       "    </tr>\n",
       "    <tr>\n",
       "      <th>3</th>\n",
       "      <td>2</td>\n",
       "      <td>4</td>\n",
       "      <td>Tagz Foods</td>\n",
       "      <td>Healthy Potato Chips</td>\n",
       "      <td>1</td>\n",
       "      <td>70.0</td>\n",
       "      <td>1.0</td>\n",
       "      <td>7000.00</td>\n",
       "      <td>70.0</td>\n",
       "      <td>2.75</td>\n",
       "      <td>...</td>\n",
       "      <td>1</td>\n",
       "      <td>0</td>\n",
       "      <td>0</td>\n",
       "      <td>0</td>\n",
       "      <td>0</td>\n",
       "      <td>0</td>\n",
       "      <td>0</td>\n",
       "      <td>1</td>\n",
       "      <td>70.0</td>\n",
       "      <td>2.750000</td>\n",
       "    </tr>\n",
       "    <tr>\n",
       "      <th>4</th>\n",
       "      <td>2</td>\n",
       "      <td>5</td>\n",
       "      <td>Head and Heart</td>\n",
       "      <td>Brain Development Course</td>\n",
       "      <td>0</td>\n",
       "      <td>50.0</td>\n",
       "      <td>5.0</td>\n",
       "      <td>1000.00</td>\n",
       "      <td>0.0</td>\n",
       "      <td>0.00</td>\n",
       "      <td>...</td>\n",
       "      <td>0</td>\n",
       "      <td>0</td>\n",
       "      <td>0</td>\n",
       "      <td>0</td>\n",
       "      <td>0</td>\n",
       "      <td>0</td>\n",
       "      <td>0</td>\n",
       "      <td>0</td>\n",
       "      <td>0.0</td>\n",
       "      <td>0.000000</td>\n",
       "    </tr>\n",
       "  </tbody>\n",
       "</table>\n",
       "<p>5 rows × 28 columns</p>\n",
       "</div>"
      ],
      "text/plain": [
       "   episode_number  pitch_number           brand_name  \\\n",
       "0               1             1  BluePine Industries   \n",
       "1               1             2        Booz scooters   \n",
       "2               1             3  Heart up my Sleeves   \n",
       "3               2             4           Tagz Foods   \n",
       "4               2             5       Head and Heart   \n",
       "\n",
       "                                            idea  deal  pitcher_ask_amount  \\\n",
       "0                                   Frozen Momos     1                50.0   \n",
       "1  Renting e-bike for mobility in private spaces     1                40.0   \n",
       "2                             Detachable Sleeves     1                25.0   \n",
       "3                           Healthy Potato Chips     1                70.0   \n",
       "4                       Brain Development Course     0                50.0   \n",
       "\n",
       "   ask_equity  ask_valuation  deal_amount  deal_equity  ...  ashneer_deal  \\\n",
       "0         5.0        1000.00         75.0        16.00  ...             1   \n",
       "1        15.0         266.67         40.0        50.00  ...             1   \n",
       "2        10.0         250.00         25.0        30.00  ...             0   \n",
       "3         1.0        7000.00         70.0         2.75  ...             1   \n",
       "4         5.0        1000.00          0.0         0.00  ...             0   \n",
       "\n",
       "   anupam_deal  aman_deal  namita_deal  vineeta_deal  peyush_deal  \\\n",
       "0            0          1            0             1            0   \n",
       "1            0          0            0             1            0   \n",
       "2            1          0            0             1            0   \n",
       "3            0          0            0             0            0   \n",
       "4            0          0            0             0            0   \n",
       "\n",
       "   ghazal_deal  total_sharks_invested  amount_per_shark  equity_per_shark  \n",
       "0            0                      3              25.0          5.333333  \n",
       "1            0                      2              20.0         25.000000  \n",
       "2            0                      2              12.5         15.000000  \n",
       "3            0                      1              70.0          2.750000  \n",
       "4            0                      0               0.0          0.000000  \n",
       "\n",
       "[5 rows x 28 columns]"
      ]
     },
     "execution_count": 2,
     "metadata": {},
     "output_type": "execute_result"
    }
   ],
   "source": [
    "df = pd.read_csv(r'C:\\Users\\HP\\Desktop\\Data Science\\Data Sets For Practice\\EDA_Shark_Tank_India.xlsx - Sheet1.csv')\n",
    "df.head()"
   ]
  },
  {
   "cell_type": "code",
   "execution_count": 3,
   "id": "6c4f7b1b",
   "metadata": {},
   "outputs": [
    {
     "data": {
      "text/plain": [
       "(117, 28)"
      ]
     },
     "execution_count": 3,
     "metadata": {},
     "output_type": "execute_result"
    }
   ],
   "source": [
    "df.shape"
   ]
  },
  {
   "cell_type": "markdown",
   "id": "40ba050a",
   "metadata": {},
   "source": [
    "#  Q1. Find the number of episodes?"
   ]
  },
  {
   "cell_type": "code",
   "execution_count": 4,
   "id": "29d89a5c",
   "metadata": {},
   "outputs": [
    {
     "data": {
      "text/plain": [
       "35"
      ]
     },
     "execution_count": 4,
     "metadata": {},
     "output_type": "execute_result"
    }
   ],
   "source": [
    "df['episode_number'].max()"
   ]
  },
  {
   "cell_type": "markdown",
   "id": "1e341143",
   "metadata": {},
   "source": [
    "# Q2. Max, min , mean of asked amount,asked equity, asked valuation? "
   ]
  },
  {
   "cell_type": "code",
   "execution_count": 5,
   "id": "7d760fc0",
   "metadata": {},
   "outputs": [
    {
     "data": {
      "text/plain": [
       "Index(['episode_number', 'pitch_number', 'brand_name', 'idea', 'deal',\n",
       "       'pitcher_ask_amount', 'ask_equity', 'ask_valuation', 'deal_amount',\n",
       "       'deal_equity', 'deal_valuation', 'ashneer_present', 'anupam_present',\n",
       "       'aman_present', 'namita_present', 'vineeta_present', 'peyush_present',\n",
       "       'ghazal_present', 'ashneer_deal', 'anupam_deal', 'aman_deal',\n",
       "       'namita_deal', 'vineeta_deal', 'peyush_deal', 'ghazal_deal',\n",
       "       'total_sharks_invested', 'amount_per_shark', 'equity_per_shark'],\n",
       "      dtype='object')"
      ]
     },
     "execution_count": 5,
     "metadata": {},
     "output_type": "execute_result"
    }
   ],
   "source": [
    "df.columns"
   ]
  },
  {
   "cell_type": "code",
   "execution_count": 6,
   "id": "4e0b3ffc",
   "metadata": {},
   "outputs": [
    {
     "name": "stdout",
     "output_type": "stream",
     "text": [
      "Min Amount Asked by Pitcher: 0.00101\n",
      "Max Amount Asked by Pitcher: 30000.0\n",
      "Mean Amount Asked by Pitcher: 319.8547094871795\n"
     ]
    }
   ],
   "source": [
    "min_value  = df['pitcher_ask_amount'].min()\n",
    "max_value  = df['pitcher_ask_amount'].max()\n",
    "mean_value  = df['pitcher_ask_amount'].mean()\n",
    "\n",
    "\n",
    "print(\"Min Amount Asked by Pitcher:\", min_value)\n",
    "print(\"Max Amount Asked by Pitcher:\", max_value)\n",
    "print(\"Mean Amount Asked by Pitcher:\", mean_value)"
   ]
  },
  {
   "cell_type": "code",
   "execution_count": 7,
   "id": "4202510d",
   "metadata": {},
   "outputs": [
    {
     "name": "stdout",
     "output_type": "stream",
     "text": [
      "Min Equity Asked: 0.25\n",
      "Max Equity Asked: 25.0\n",
      "Mean Equity Asked: 5.188034188034188\n"
     ]
    }
   ],
   "source": [
    "min_value  = df['ask_equity'].min()\n",
    "max_value  = df['ask_equity'].max()\n",
    "mean_value  = df['ask_equity'].mean()\n",
    "\n",
    "\n",
    "print(\"Min Equity Asked:\", min_value)\n",
    "print(\"Max Equity Asked:\", max_value)\n",
    "print(\"Mean Equity Asked:\", mean_value)"
   ]
  },
  {
   "cell_type": "code",
   "execution_count": 8,
   "id": "ee72d436",
   "metadata": {},
   "outputs": [
    {
     "name": "stdout",
     "output_type": "stream",
     "text": [
      "Min Valuation Asked: 0.01\n",
      "Max Valuation Asked: 120000.0\n",
      "Mean Valuation Asked: 3852.4624786324785\n"
     ]
    }
   ],
   "source": [
    "min_value  = df['ask_valuation'].min()\n",
    "max_value  = df['ask_valuation'].max()\n",
    "mean_value  = df['ask_valuation'].mean()\n",
    "\n",
    "\n",
    "print(\"Min Valuation Asked:\", min_value)\n",
    "print(\"Max Valuation Asked:\", max_value)\n",
    "print(\"Mean Valuation Asked:\", mean_value)"
   ]
  },
  {
   "cell_type": "markdown",
   "id": "aeaa0b82",
   "metadata": {},
   "source": [
    "# Q3. Max & Min asked- equity,asked-valuation and asked amount episode-wise? "
   ]
  },
  {
   "cell_type": "code",
   "execution_count": 9,
   "id": "35ad4e3a",
   "metadata": {},
   "outputs": [
    {
     "name": "stdout",
     "output_type": "stream",
     "text": [
      "Min Equity Asked in Episode: 6    3\n",
      "Name: episode_number, dtype: int64\n",
      "Max Equity Asked in Episode: 30    11\n",
      "Name: episode_number, dtype: int64\n"
     ]
    }
   ],
   "source": [
    "min_value = df.loc[df['ask_equity']==df['ask_equity'].min(), 'episode_number']\n",
    "max_value = df.loc[df['ask_equity']==df['ask_equity'].max(), 'episode_number']\n",
    "\n",
    "print(\"Min Equity Asked in Episode:\", min_value)\n",
    "print(\"Max Equity Asked in Episode:\", max_value)"
   ]
  },
  {
   "cell_type": "markdown",
   "id": "9e712a5a",
   "metadata": {},
   "source": [
    "* In row no. 6 and Episode no. 3 minimum equity was asked.\n",
    "* In row no. 30 and Episode no. 11 maximum equity was asked."
   ]
  },
  {
   "cell_type": "code",
   "execution_count": 10,
   "id": "0b8ad501",
   "metadata": {},
   "outputs": [
    {
     "name": "stdout",
     "output_type": "stream",
     "text": [
      "Min Equity Asked in Episode: 85    27\n",
      "Name: episode_number, dtype: int64\n",
      "Max Equity Asked in Episode: 30    11\n",
      "Name: episode_number, dtype: int64\n"
     ]
    }
   ],
   "source": [
    "min_value = df.loc[df['ask_valuation']==df['ask_valuation'].min(), 'episode_number']\n",
    "max_value = df.loc[df['ask_valuation']==df['ask_valuation'].max(), 'episode_number']\n",
    "\n",
    "print(\"Min Equity Asked in Episode:\", min_value)\n",
    "print(\"Max Equity Asked in Episode:\", max_value)"
   ]
  },
  {
   "cell_type": "markdown",
   "id": "f5b9b2dc",
   "metadata": {},
   "source": [
    "* In row no. 85 and Episode no. 27 minimum Valuation was asked.\n",
    "* In row no. 30 and Episode no. 11 maximum Valuation was asked."
   ]
  },
  {
   "cell_type": "code",
   "execution_count": 11,
   "id": "03ce3a49",
   "metadata": {},
   "outputs": [
    {
     "name": "stdout",
     "output_type": "stream",
     "text": [
      "Min Equity Asked in Episode: 85    27\n",
      "Name: episode_number, dtype: int64\n",
      "Max Equity Asked in Episode: 30    11\n",
      "Name: episode_number, dtype: int64\n"
     ]
    }
   ],
   "source": [
    "min_value = df.loc[df['pitcher_ask_amount']==df['pitcher_ask_amount'].min(), 'episode_number']\n",
    "max_value = df.loc[df['pitcher_ask_amount']==df['pitcher_ask_amount'].max(), 'episode_number']\n",
    "\n",
    "print(\"Min Equity Asked in Episode:\", min_value)\n",
    "print(\"Max Equity Asked in Episode:\", max_value)"
   ]
  },
  {
   "cell_type": "markdown",
   "id": "6bdb4167",
   "metadata": {},
   "source": [
    "* In row no. 85 and Episode no. 27 minimum Amount was asked.\n",
    "* In row no. 30 and Episode no. 11 maximum Amount was asked."
   ]
  },
  {
   "cell_type": "markdown",
   "id": "8528ad7d",
   "metadata": {},
   "source": [
    "## Conclusion:-\n",
    "\n",
    "\n",
    "* Min Amount, Valuation asked by Pitcher in Episode No. 27\n",
    "\n",
    "\n",
    "* Max Amount, Valuation, Equity asked by Pitcher in Episode No. 11"
   ]
  },
  {
   "cell_type": "markdown",
   "id": "011e9a18",
   "metadata": {},
   "source": [
    "# Q4.Brand names in which 2 ,3 or 4 sharks are invested?"
   ]
  },
  {
   "cell_type": "code",
   "execution_count": 12,
   "id": "89836254",
   "metadata": {},
   "outputs": [
    {
     "data": {
      "text/plain": [
       "['Booz scooters',\n",
       " 'Heart up my Sleeves',\n",
       " 'Cosiq',\n",
       " 'Bummer',\n",
       " 'Revamp Moto',\n",
       " 'Raising Superstars',\n",
       " 'Beyond Snack',\n",
       " 'Vivalyf Innovations- Easy Life',\n",
       " 'Altor',\n",
       " 'Ariro',\n",
       " 'Farda',\n",
       " 'Caragreen',\n",
       " 'The Renal Project',\n",
       " 'Bamboo India',\n",
       " 'Beyond Water',\n",
       " \"Let's Try\",\n",
       " 'The Quirky Nari',\n",
       " 'The Sass Bar',\n",
       " 'Kabaddi Adda',\n",
       " 'Proxgy']"
      ]
     },
     "execution_count": 12,
     "metadata": {},
     "output_type": "execute_result"
    }
   ],
   "source": [
    "x = df.loc[df['total_sharks_invested']==2, 'brand_name'].tolist()\n",
    "x"
   ]
  },
  {
   "cell_type": "markdown",
   "id": "5564bece",
   "metadata": {},
   "source": [
    "* Only 2 Sharks Invested in above Brands"
   ]
  },
  {
   "cell_type": "code",
   "execution_count": 13,
   "id": "9c6e691c",
   "metadata": {},
   "outputs": [
    {
     "data": {
      "text/plain": [
       "['BluePine Industries',\n",
       " 'Nuutjob',\n",
       " 'Meatyour',\n",
       " 'EventBeep',\n",
       " 'LOKA',\n",
       " 'Annie',\n",
       " 'Cocofit',\n",
       " 'Aas Vidyalaya',\n",
       " 'Get a Whey',\n",
       " 'Hair Originals',\n",
       " 'Humpy A2',\n",
       " 'Gold Safe Solutions Ind.',\n",
       " 'Wakao Foods',\n",
       " 'Tweek Labs']"
      ]
     },
     "execution_count": 13,
     "metadata": {},
     "output_type": "execute_result"
    }
   ],
   "source": [
    "x = df.loc[df['total_sharks_invested']==3, 'brand_name'].tolist()\n",
    "x"
   ]
  },
  {
   "cell_type": "markdown",
   "id": "e4492caa",
   "metadata": {},
   "source": [
    "* 3 Sharks Invested in above brands"
   ]
  },
  {
   "cell_type": "code",
   "execution_count": 14,
   "id": "7555f9a4",
   "metadata": {},
   "outputs": [
    {
     "data": {
      "text/plain": [
       "['The Yarn Bazaar',\n",
       " 'WeSTOCK',\n",
       " 'Watt Technovations',\n",
       " 'Nomad Food Project',\n",
       " 'Jain Shikanji']"
      ]
     },
     "execution_count": 14,
     "metadata": {},
     "output_type": "execute_result"
    }
   ],
   "source": [
    "x = df.loc[df['total_sharks_invested']==4, 'brand_name'].tolist()\n",
    "x"
   ]
  },
  {
   "cell_type": "markdown",
   "id": "4a77efbe",
   "metadata": {},
   "source": [
    "* 4 Sharks Invested in above brands"
   ]
  },
  {
   "cell_type": "markdown",
   "id": "2cb864c7",
   "metadata": {},
   "source": [
    "# Q5. Episode in which minimum and maximum of sharks invested? "
   ]
  },
  {
   "cell_type": "code",
   "execution_count": 15,
   "id": "10a61e50",
   "metadata": {},
   "outputs": [
    {
     "data": {
      "text/plain": [
       "0    52\n",
       "1    22\n",
       "2    20\n",
       "3    14\n",
       "4     5\n",
       "5     4\n",
       "Name: total_sharks_invested, dtype: int64"
      ]
     },
     "execution_count": 15,
     "metadata": {},
     "output_type": "execute_result"
    }
   ],
   "source": [
    "df.total_sharks_invested.value_counts()"
   ]
  },
  {
   "cell_type": "markdown",
   "id": "ff166078",
   "metadata": {},
   "source": [
    "* As we see minimum no. of sharks invested is 1 and maximum sharks invested are 5"
   ]
  },
  {
   "cell_type": "code",
   "execution_count": 16,
   "id": "900f356f",
   "metadata": {},
   "outputs": [
    {
     "name": "stdout",
     "output_type": "stream",
     "text": [
      "[2, 3, 3, 6, 8, 11, 12, 15, 15, 17, 18, 20, 21, 23, 24, 25, 26, 26, 27, 31, 32, 33]\n"
     ]
    }
   ],
   "source": [
    "x = df.loc[df['total_sharks_invested']==1, 'episode_number'].tolist()\n",
    "print(x)"
   ]
  },
  {
   "cell_type": "markdown",
   "id": "e3e9d98b",
   "metadata": {},
   "source": [
    "Only 1 shark was invested in above episodes."
   ]
  },
  {
   "cell_type": "code",
   "execution_count": 17,
   "id": "52f0ba4d",
   "metadata": {},
   "outputs": [
    {
     "name": "stdout",
     "output_type": "stream",
     "text": [
      "[6, 17, 20, 25]\n"
     ]
    }
   ],
   "source": [
    "x = df.loc[df['total_sharks_invested']==5, 'episode_number'].tolist()\n",
    "print(x)"
   ]
  },
  {
   "cell_type": "markdown",
   "id": "1867c6c8",
   "metadata": {},
   "source": [
    "5 shark was invested in above episodes."
   ]
  },
  {
   "cell_type": "markdown",
   "id": "d4f0e5a5",
   "metadata": {},
   "source": [
    "# Q6. Minimum and Maximum sharks invested in each brand?"
   ]
  },
  {
   "cell_type": "code",
   "execution_count": 18,
   "id": "30fa7ba5",
   "metadata": {},
   "outputs": [
    {
     "data": {
      "text/plain": [
       "['Tagz Foods',\n",
       " 'Peeschute',\n",
       " 'NOCD',\n",
       " 'Menstrupedia',\n",
       " 'Motion Breeze',\n",
       " 'ARRCOAT Surface Textures',\n",
       " 'Auli Lifestyle',\n",
       " 'Hammer Lifestyle',\n",
       " 'PNT',\n",
       " 'RoadBounce',\n",
       " 'Otua',\n",
       " 'The State Plate',\n",
       " 'Sid07 Designs',\n",
       " 'Namhya Foods',\n",
       " 'KG Agrotech',\n",
       " 'PawsIndia',\n",
       " 'Isak Fragrances',\n",
       " 'Rare Planet',\n",
       " 'Insurance Samadhan',\n",
       " 'AyuRythm',\n",
       " 'GrowFitter',\n",
       " 'Colour Me Mad']"
      ]
     },
     "execution_count": 18,
     "metadata": {},
     "output_type": "execute_result"
    }
   ],
   "source": [
    "x = df.loc[df['total_sharks_invested']==1, 'brand_name'].tolist()\n",
    "x"
   ]
  },
  {
   "cell_type": "markdown",
   "id": "47b17ea0",
   "metadata": {},
   "source": [
    "* Only 1 Shark was invested in above brands."
   ]
  },
  {
   "cell_type": "code",
   "execution_count": 19,
   "id": "3a8aebe3",
   "metadata": {},
   "outputs": [
    {
     "data": {
      "text/plain": [
       "['Skippi Pops', 'Find Your Kicks India', 'IN A CAN', 'Sunfox Technologies']"
      ]
     },
     "execution_count": 19,
     "metadata": {},
     "output_type": "execute_result"
    }
   ],
   "source": [
    "x = df.loc[df['total_sharks_invested']==5, 'brand_name'].tolist()\n",
    "x"
   ]
  },
  {
   "cell_type": "markdown",
   "id": "683ba58d",
   "metadata": {},
   "source": [
    "* 5 Sharks was invested in above Brands"
   ]
  },
  {
   "cell_type": "markdown",
   "id": "3775a33c",
   "metadata": {},
   "source": [
    "# Q7. Brand names who ask for 1 crore and got a deal?"
   ]
  },
  {
   "cell_type": "code",
   "execution_count": 57,
   "id": "a10eaee2",
   "metadata": {},
   "outputs": [
    {
     "data": {
      "text/plain": [
       "['Revamp Moto',\n",
       " 'The Renal Project',\n",
       " 'Otua',\n",
       " 'Get a Whey',\n",
       " 'Namhya Foods',\n",
       " 'Sunfox Technologies',\n",
       " 'Insurance Samadhan']"
      ]
     },
     "execution_count": 57,
     "metadata": {},
     "output_type": "execute_result"
    }
   ],
   "source": [
    "df2 = df.loc[(df['deal'] == 1) & (df['pitcher_ask_amount'] == 100.0) & (df['brand_name'])]\n",
    "df2 = df2['brand_name'].tolist()\n",
    "df2"
   ]
  },
  {
   "cell_type": "markdown",
   "id": "6843711a",
   "metadata": {},
   "source": [
    "### OR"
   ]
  },
  {
   "cell_type": "code",
   "execution_count": 55,
   "id": "ff7e6c42",
   "metadata": {},
   "outputs": [
    {
     "data": {
      "text/plain": [
       "['Revamp Moto',\n",
       " 'The Renal Project',\n",
       " 'Otua',\n",
       " 'Get a Whey',\n",
       " 'Namhya Foods',\n",
       " 'Sunfox Technologies',\n",
       " 'Insurance Samadhan']"
      ]
     },
     "execution_count": 55,
     "metadata": {},
     "output_type": "execute_result"
    }
   ],
   "source": [
    "# Filter the data for brand names who asked for 1 crore\n",
    "df = df[df[\"pitcher_ask_amount\"] == 100.0]\n",
    "\n",
    "# Filter the data for brand names who got a deal\n",
    "df = df[df[\"deal\"] == 1]\n",
    "\n",
    "# Get the brand names\n",
    "brand_names = df[\"brand_name\"].unique().tolist()\n",
    "brand_names"
   ]
  },
  {
   "cell_type": "markdown",
   "id": "e7accab7",
   "metadata": {},
   "source": [
    "* These are brands who ask for 1 Crore and Got a deal."
   ]
  },
  {
   "cell_type": "markdown",
   "id": "0bfdd160",
   "metadata": {},
   "source": [
    "#  Q8. Brand names where deal equity is between 0 to 50? "
   ]
  },
  {
   "cell_type": "code",
   "execution_count": 22,
   "id": "f625cd26",
   "metadata": {},
   "outputs": [
    {
     "data": {
      "text/html": [
       "<div>\n",
       "<style scoped>\n",
       "    .dataframe tbody tr th:only-of-type {\n",
       "        vertical-align: middle;\n",
       "    }\n",
       "\n",
       "    .dataframe tbody tr th {\n",
       "        vertical-align: top;\n",
       "    }\n",
       "\n",
       "    .dataframe thead th {\n",
       "        text-align: right;\n",
       "    }\n",
       "</style>\n",
       "<table border=\"1\" class=\"dataframe\">\n",
       "  <thead>\n",
       "    <tr style=\"text-align: right;\">\n",
       "      <th></th>\n",
       "      <th>brand_name</th>\n",
       "      <th>deal_equity</th>\n",
       "    </tr>\n",
       "  </thead>\n",
       "  <tbody>\n",
       "    <tr>\n",
       "      <th>0</th>\n",
       "      <td>BluePine Industries</td>\n",
       "      <td>16.00</td>\n",
       "    </tr>\n",
       "    <tr>\n",
       "      <th>1</th>\n",
       "      <td>Booz scooters</td>\n",
       "      <td>50.00</td>\n",
       "    </tr>\n",
       "    <tr>\n",
       "      <th>2</th>\n",
       "      <td>Heart up my Sleeves</td>\n",
       "      <td>30.00</td>\n",
       "    </tr>\n",
       "    <tr>\n",
       "      <th>3</th>\n",
       "      <td>Tagz Foods</td>\n",
       "      <td>2.75</td>\n",
       "    </tr>\n",
       "    <tr>\n",
       "      <th>7</th>\n",
       "      <td>Peeschute</td>\n",
       "      <td>6.00</td>\n",
       "    </tr>\n",
       "    <tr>\n",
       "      <th>...</th>\n",
       "      <td>...</td>\n",
       "      <td>...</td>\n",
       "    </tr>\n",
       "    <tr>\n",
       "      <th>106</th>\n",
       "      <td>Colour Me Mad</td>\n",
       "      <td>25.00</td>\n",
       "    </tr>\n",
       "    <tr>\n",
       "      <th>108</th>\n",
       "      <td>Tweek Labs</td>\n",
       "      <td>10.00</td>\n",
       "    </tr>\n",
       "    <tr>\n",
       "      <th>109</th>\n",
       "      <td>Proxgy</td>\n",
       "      <td>10.00</td>\n",
       "    </tr>\n",
       "    <tr>\n",
       "      <th>110</th>\n",
       "      <td>Nomad Food Project</td>\n",
       "      <td>20.00</td>\n",
       "    </tr>\n",
       "    <tr>\n",
       "      <th>114</th>\n",
       "      <td>Jain Shikanji</td>\n",
       "      <td>30.00</td>\n",
       "    </tr>\n",
       "  </tbody>\n",
       "</table>\n",
       "<p>63 rows × 2 columns</p>\n",
       "</div>"
      ],
      "text/plain": [
       "              brand_name  deal_equity\n",
       "0    BluePine Industries        16.00\n",
       "1          Booz scooters        50.00\n",
       "2    Heart up my Sleeves        30.00\n",
       "3             Tagz Foods         2.75\n",
       "7              Peeschute         6.00\n",
       "..                   ...          ...\n",
       "106        Colour Me Mad        25.00\n",
       "108           Tweek Labs        10.00\n",
       "109               Proxgy        10.00\n",
       "110   Nomad Food Project        20.00\n",
       "114        Jain Shikanji        30.00\n",
       "\n",
       "[63 rows x 2 columns]"
      ]
     },
     "execution_count": 22,
     "metadata": {},
     "output_type": "execute_result"
    }
   ],
   "source": [
    "df2 = df.loc[(df['deal'] == 1) & (df['equity_per_shark'] < 50) & (df['brand_name'])]\n",
    "df2 = pd.DataFrame(df2)\n",
    "df2 = df2[['brand_name','deal_equity']]\n",
    "df2"
   ]
  },
  {
   "cell_type": "code",
   "execution_count": 23,
   "id": "e3e6afd9",
   "metadata": {},
   "outputs": [
    {
     "data": {
      "text/plain": [
       "array(['BluePine Industries', 'Booz scooters', 'Heart up my Sleeves',\n",
       "       'Tagz Foods', 'Peeschute', 'NOCD', 'Cosiq', 'Bummer',\n",
       "       'Revamp Moto', 'Skippi Pops', 'Menstrupedia', 'Torch-it',\n",
       "       'Beyond Snack', 'Vivalyf Innovations- Easy Life', 'Motion Breeze',\n",
       "       'Altor', 'Ariro', 'Nuutjob', 'Meatyour', 'EventBeep',\n",
       "       'ARRCOAT Surface Textures', 'Farda', 'Auli Lifestyle', 'LOKA',\n",
       "       'Annie', 'Caragreen', 'The Yarn Bazaar', 'The Renal Project',\n",
       "       'Hammer Lifestyle', 'PNT', 'Cocofit', 'Bamboo India',\n",
       "       'Beyond Water', \"Let's Try\", 'Find Your Kicks India',\n",
       "       'Aas Vidyalaya', 'RoadBounce', 'Otua', 'WeSTOCK',\n",
       "       'The State Plate', 'IN A CAN', 'Get a Whey', 'The Quirky Nari',\n",
       "       'Hair Originals', 'Namhya Foods', 'The Sass Bar', 'KG Agrotech',\n",
       "       'PawsIndia', 'Sunfox Technologies', 'Rare Planet',\n",
       "       'Watt Technovations', 'Insurance Samadhan', 'Humpy A2',\n",
       "       'Gold Safe Solutions Ind.', 'Wakao Foods', 'Kabaddi Adda',\n",
       "       'AyuRythm', 'GrowFitter', 'Colour Me Mad', 'Tweek Labs', 'Proxgy',\n",
       "       'Nomad Food Project', 'Jain Shikanji'], dtype=object)"
      ]
     },
     "execution_count": 23,
     "metadata": {},
     "output_type": "execute_result"
    }
   ],
   "source": [
    "df2['brand_name'].values"
   ]
  },
  {
   "cell_type": "code",
   "execution_count": 24,
   "id": "17a10c79",
   "metadata": {},
   "outputs": [
    {
     "data": {
      "text/plain": [
       "63"
      ]
     },
     "execution_count": 24,
     "metadata": {},
     "output_type": "execute_result"
    }
   ],
   "source": [
    "len(df2['brand_name'])"
   ]
  },
  {
   "cell_type": "markdown",
   "id": "bf1e2af1",
   "metadata": {},
   "source": [
    "* There are 63 brand which gets a deal and their deal equity is between 0-50%. Their names are given above."
   ]
  },
  {
   "cell_type": "markdown",
   "id": "8fcff132",
   "metadata": {},
   "source": [
    "# Q9. Find the number of brands participated in each episode?"
   ]
  },
  {
   "cell_type": "code",
   "execution_count": 25,
   "id": "8f06e8ed",
   "metadata": {},
   "outputs": [],
   "source": [
    "brands_per_episode = df.groupby('episode_number')['brand_name'].nunique()"
   ]
  },
  {
   "cell_type": "code",
   "execution_count": 26,
   "id": "5cd5ce22",
   "metadata": {},
   "outputs": [
    {
     "data": {
      "text/html": [
       "<div>\n",
       "<style scoped>\n",
       "    .dataframe tbody tr th:only-of-type {\n",
       "        vertical-align: middle;\n",
       "    }\n",
       "\n",
       "    .dataframe tbody tr th {\n",
       "        vertical-align: top;\n",
       "    }\n",
       "\n",
       "    .dataframe thead th {\n",
       "        text-align: right;\n",
       "    }\n",
       "</style>\n",
       "<table border=\"1\" class=\"dataframe\">\n",
       "  <thead>\n",
       "    <tr style=\"text-align: right;\">\n",
       "      <th></th>\n",
       "      <th>brand_name</th>\n",
       "    </tr>\n",
       "    <tr>\n",
       "      <th>episode_number</th>\n",
       "      <th></th>\n",
       "    </tr>\n",
       "  </thead>\n",
       "  <tbody>\n",
       "    <tr>\n",
       "      <th>1</th>\n",
       "      <td>3</td>\n",
       "    </tr>\n",
       "    <tr>\n",
       "      <th>2</th>\n",
       "      <td>3</td>\n",
       "    </tr>\n",
       "    <tr>\n",
       "      <th>3</th>\n",
       "      <td>3</td>\n",
       "    </tr>\n",
       "    <tr>\n",
       "      <th>4</th>\n",
       "      <td>3</td>\n",
       "    </tr>\n",
       "    <tr>\n",
       "      <th>5</th>\n",
       "      <td>3</td>\n",
       "    </tr>\n",
       "    <tr>\n",
       "      <th>6</th>\n",
       "      <td>3</td>\n",
       "    </tr>\n",
       "    <tr>\n",
       "      <th>7</th>\n",
       "      <td>3</td>\n",
       "    </tr>\n",
       "    <tr>\n",
       "      <th>8</th>\n",
       "      <td>3</td>\n",
       "    </tr>\n",
       "    <tr>\n",
       "      <th>9</th>\n",
       "      <td>3</td>\n",
       "    </tr>\n",
       "    <tr>\n",
       "      <th>10</th>\n",
       "      <td>3</td>\n",
       "    </tr>\n",
       "    <tr>\n",
       "      <th>11</th>\n",
       "      <td>3</td>\n",
       "    </tr>\n",
       "    <tr>\n",
       "      <th>12</th>\n",
       "      <td>3</td>\n",
       "    </tr>\n",
       "    <tr>\n",
       "      <th>13</th>\n",
       "      <td>3</td>\n",
       "    </tr>\n",
       "    <tr>\n",
       "      <th>14</th>\n",
       "      <td>3</td>\n",
       "    </tr>\n",
       "    <tr>\n",
       "      <th>15</th>\n",
       "      <td>3</td>\n",
       "    </tr>\n",
       "    <tr>\n",
       "      <th>16</th>\n",
       "      <td>4</td>\n",
       "    </tr>\n",
       "    <tr>\n",
       "      <th>17</th>\n",
       "      <td>4</td>\n",
       "    </tr>\n",
       "    <tr>\n",
       "      <th>18</th>\n",
       "      <td>4</td>\n",
       "    </tr>\n",
       "    <tr>\n",
       "      <th>19</th>\n",
       "      <td>4</td>\n",
       "    </tr>\n",
       "    <tr>\n",
       "      <th>20</th>\n",
       "      <td>3</td>\n",
       "    </tr>\n",
       "    <tr>\n",
       "      <th>21</th>\n",
       "      <td>3</td>\n",
       "    </tr>\n",
       "    <tr>\n",
       "      <th>22</th>\n",
       "      <td>4</td>\n",
       "    </tr>\n",
       "    <tr>\n",
       "      <th>23</th>\n",
       "      <td>4</td>\n",
       "    </tr>\n",
       "    <tr>\n",
       "      <th>24</th>\n",
       "      <td>3</td>\n",
       "    </tr>\n",
       "    <tr>\n",
       "      <th>25</th>\n",
       "      <td>3</td>\n",
       "    </tr>\n",
       "    <tr>\n",
       "      <th>26</th>\n",
       "      <td>3</td>\n",
       "    </tr>\n",
       "    <tr>\n",
       "      <th>27</th>\n",
       "      <td>4</td>\n",
       "    </tr>\n",
       "    <tr>\n",
       "      <th>28</th>\n",
       "      <td>3</td>\n",
       "    </tr>\n",
       "    <tr>\n",
       "      <th>29</th>\n",
       "      <td>3</td>\n",
       "    </tr>\n",
       "    <tr>\n",
       "      <th>30</th>\n",
       "      <td>4</td>\n",
       "    </tr>\n",
       "    <tr>\n",
       "      <th>31</th>\n",
       "      <td>4</td>\n",
       "    </tr>\n",
       "    <tr>\n",
       "      <th>32</th>\n",
       "      <td>4</td>\n",
       "    </tr>\n",
       "    <tr>\n",
       "      <th>33</th>\n",
       "      <td>4</td>\n",
       "    </tr>\n",
       "    <tr>\n",
       "      <th>34</th>\n",
       "      <td>4</td>\n",
       "    </tr>\n",
       "    <tr>\n",
       "      <th>35</th>\n",
       "      <td>3</td>\n",
       "    </tr>\n",
       "  </tbody>\n",
       "</table>\n",
       "</div>"
      ],
      "text/plain": [
       "                brand_name\n",
       "episode_number            \n",
       "1                        3\n",
       "2                        3\n",
       "3                        3\n",
       "4                        3\n",
       "5                        3\n",
       "6                        3\n",
       "7                        3\n",
       "8                        3\n",
       "9                        3\n",
       "10                       3\n",
       "11                       3\n",
       "12                       3\n",
       "13                       3\n",
       "14                       3\n",
       "15                       3\n",
       "16                       4\n",
       "17                       4\n",
       "18                       4\n",
       "19                       4\n",
       "20                       3\n",
       "21                       3\n",
       "22                       4\n",
       "23                       4\n",
       "24                       3\n",
       "25                       3\n",
       "26                       3\n",
       "27                       4\n",
       "28                       3\n",
       "29                       3\n",
       "30                       4\n",
       "31                       4\n",
       "32                       4\n",
       "33                       4\n",
       "34                       4\n",
       "35                       3"
      ]
     },
     "execution_count": 26,
     "metadata": {},
     "output_type": "execute_result"
    }
   ],
   "source": [
    "df2 = pd.DataFrame(brands_per_episode)\n",
    "df2"
   ]
  },
  {
   "cell_type": "markdown",
   "id": "2b8e7e9c",
   "metadata": {},
   "source": [
    "#  Q10. How many sharks participated in this show and What were their names? "
   ]
  },
  {
   "cell_type": "code",
   "execution_count": 27,
   "id": "2bfb9657",
   "metadata": {},
   "outputs": [
    {
     "data": {
      "text/html": [
       "<div>\n",
       "<style scoped>\n",
       "    .dataframe tbody tr th:only-of-type {\n",
       "        vertical-align: middle;\n",
       "    }\n",
       "\n",
       "    .dataframe tbody tr th {\n",
       "        vertical-align: top;\n",
       "    }\n",
       "\n",
       "    .dataframe thead th {\n",
       "        text-align: right;\n",
       "    }\n",
       "</style>\n",
       "<table border=\"1\" class=\"dataframe\">\n",
       "  <thead>\n",
       "    <tr style=\"text-align: right;\">\n",
       "      <th></th>\n",
       "      <th>0</th>\n",
       "    </tr>\n",
       "  </thead>\n",
       "  <tbody>\n",
       "    <tr>\n",
       "      <th>0</th>\n",
       "      <td>ashneer_present</td>\n",
       "    </tr>\n",
       "    <tr>\n",
       "      <th>1</th>\n",
       "      <td>anupam_present</td>\n",
       "    </tr>\n",
       "    <tr>\n",
       "      <th>2</th>\n",
       "      <td>aman_present</td>\n",
       "    </tr>\n",
       "    <tr>\n",
       "      <th>3</th>\n",
       "      <td>namita_present</td>\n",
       "    </tr>\n",
       "    <tr>\n",
       "      <th>4</th>\n",
       "      <td>vineeta_present</td>\n",
       "    </tr>\n",
       "    <tr>\n",
       "      <th>5</th>\n",
       "      <td>peyush_present</td>\n",
       "    </tr>\n",
       "    <tr>\n",
       "      <th>6</th>\n",
       "      <td>ghazal_present</td>\n",
       "    </tr>\n",
       "  </tbody>\n",
       "</table>\n",
       "</div>"
      ],
      "text/plain": [
       "                 0\n",
       "0  ashneer_present\n",
       "1   anupam_present\n",
       "2     aman_present\n",
       "3   namita_present\n",
       "4  vineeta_present\n",
       "5   peyush_present\n",
       "6   ghazal_present"
      ]
     },
     "execution_count": 27,
     "metadata": {},
     "output_type": "execute_result"
    }
   ],
   "source": [
    "age_cols = [col for col in df.columns if 'present' in col]\n",
    "df3 = pd.DataFrame(age_cols)\n",
    "df3"
   ]
  },
  {
   "cell_type": "markdown",
   "id": "4146b74f",
   "metadata": {},
   "source": [
    "These are Shark's name who participated in the show."
   ]
  },
  {
   "cell_type": "code",
   "execution_count": 28,
   "id": "d52a0678",
   "metadata": {},
   "outputs": [
    {
     "data": {
      "text/plain": [
       "0    7\n",
       "dtype: int64"
      ]
     },
     "execution_count": 28,
     "metadata": {},
     "output_type": "execute_result"
    }
   ],
   "source": [
    "df3.nunique()"
   ]
  },
  {
   "cell_type": "markdown",
   "id": "65c759e1",
   "metadata": {},
   "source": [
    "There are total 7 Sharks "
   ]
  },
  {
   "cell_type": "markdown",
   "id": "a84125a2",
   "metadata": {},
   "source": [
    "# Q11. Find appearance of each sharks?"
   ]
  },
  {
   "cell_type": "markdown",
   "id": "3186620e",
   "metadata": {},
   "source": [
    "## 1) Ghazal appear in these Episodes"
   ]
  },
  {
   "cell_type": "code",
   "execution_count": 29,
   "id": "fe498679",
   "metadata": {},
   "outputs": [
    {
     "data": {
      "text/html": [
       "<div>\n",
       "<style scoped>\n",
       "    .dataframe tbody tr th:only-of-type {\n",
       "        vertical-align: middle;\n",
       "    }\n",
       "\n",
       "    .dataframe tbody tr th {\n",
       "        vertical-align: top;\n",
       "    }\n",
       "\n",
       "    .dataframe thead th {\n",
       "        text-align: right;\n",
       "    }\n",
       "</style>\n",
       "<table border=\"1\" class=\"dataframe\">\n",
       "  <thead>\n",
       "    <tr style=\"text-align: right;\">\n",
       "      <th></th>\n",
       "      <th>episode_number</th>\n",
       "    </tr>\n",
       "  </thead>\n",
       "  <tbody>\n",
       "    <tr>\n",
       "      <th>75</th>\n",
       "      <td>24</td>\n",
       "    </tr>\n",
       "    <tr>\n",
       "      <th>78</th>\n",
       "      <td>25</td>\n",
       "    </tr>\n",
       "    <tr>\n",
       "      <th>81</th>\n",
       "      <td>26</td>\n",
       "    </tr>\n",
       "    <tr>\n",
       "      <th>84</th>\n",
       "      <td>27</td>\n",
       "    </tr>\n",
       "    <tr>\n",
       "      <th>88</th>\n",
       "      <td>28</td>\n",
       "    </tr>\n",
       "    <tr>\n",
       "      <th>91</th>\n",
       "      <td>29</td>\n",
       "    </tr>\n",
       "    <tr>\n",
       "      <th>110</th>\n",
       "      <td>34</td>\n",
       "    </tr>\n",
       "    <tr>\n",
       "      <th>114</th>\n",
       "      <td>35</td>\n",
       "    </tr>\n",
       "  </tbody>\n",
       "</table>\n",
       "</div>"
      ],
      "text/plain": [
       "     episode_number\n",
       "75               24\n",
       "78               25\n",
       "81               26\n",
       "84               27\n",
       "88               28\n",
       "91               29\n",
       "110              34\n",
       "114              35"
      ]
     },
     "execution_count": 29,
     "metadata": {},
     "output_type": "execute_result"
    }
   ],
   "source": [
    "abc = df.loc[df['ghazal_present']==1, 'episode_number']\n",
    "\n",
    "df3 = pd.DataFrame(abc)\n",
    "\n",
    "df3 = df3.drop_duplicates(subset=['episode_number'])\n",
    "\n",
    "df3"
   ]
  },
  {
   "cell_type": "code",
   "execution_count": 30,
   "id": "33cf04bc",
   "metadata": {},
   "outputs": [
    {
     "data": {
      "text/plain": [
       "8"
      ]
     },
     "execution_count": 30,
     "metadata": {},
     "output_type": "execute_result"
    }
   ],
   "source": [
    "len(df3['episode_number'])"
   ]
  },
  {
   "cell_type": "markdown",
   "id": "b26aea8e",
   "metadata": {},
   "source": [
    "Ghazal Appear in 8 Episodes out of 35 Episodes which are given above."
   ]
  },
  {
   "cell_type": "markdown",
   "id": "066a54a0",
   "metadata": {},
   "source": [
    "## 2) Ashneer appear in these Episodes"
   ]
  },
  {
   "cell_type": "code",
   "execution_count": 31,
   "id": "80e86c94",
   "metadata": {},
   "outputs": [
    {
     "data": {
      "text/html": [
       "<div>\n",
       "<style scoped>\n",
       "    .dataframe tbody tr th:only-of-type {\n",
       "        vertical-align: middle;\n",
       "    }\n",
       "\n",
       "    .dataframe tbody tr th {\n",
       "        vertical-align: top;\n",
       "    }\n",
       "\n",
       "    .dataframe thead th {\n",
       "        text-align: right;\n",
       "    }\n",
       "</style>\n",
       "<table border=\"1\" class=\"dataframe\">\n",
       "  <thead>\n",
       "    <tr style=\"text-align: right;\">\n",
       "      <th></th>\n",
       "      <th>episode_number</th>\n",
       "    </tr>\n",
       "  </thead>\n",
       "  <tbody>\n",
       "    <tr>\n",
       "      <th>0</th>\n",
       "      <td>1</td>\n",
       "    </tr>\n",
       "    <tr>\n",
       "      <th>3</th>\n",
       "      <td>2</td>\n",
       "    </tr>\n",
       "    <tr>\n",
       "      <th>6</th>\n",
       "      <td>3</td>\n",
       "    </tr>\n",
       "    <tr>\n",
       "      <th>9</th>\n",
       "      <td>4</td>\n",
       "    </tr>\n",
       "    <tr>\n",
       "      <th>12</th>\n",
       "      <td>5</td>\n",
       "    </tr>\n",
       "    <tr>\n",
       "      <th>15</th>\n",
       "      <td>6</td>\n",
       "    </tr>\n",
       "    <tr>\n",
       "      <th>18</th>\n",
       "      <td>7</td>\n",
       "    </tr>\n",
       "    <tr>\n",
       "      <th>21</th>\n",
       "      <td>8</td>\n",
       "    </tr>\n",
       "    <tr>\n",
       "      <th>24</th>\n",
       "      <td>9</td>\n",
       "    </tr>\n",
       "    <tr>\n",
       "      <th>27</th>\n",
       "      <td>10</td>\n",
       "    </tr>\n",
       "    <tr>\n",
       "      <th>30</th>\n",
       "      <td>11</td>\n",
       "    </tr>\n",
       "    <tr>\n",
       "      <th>33</th>\n",
       "      <td>12</td>\n",
       "    </tr>\n",
       "    <tr>\n",
       "      <th>36</th>\n",
       "      <td>13</td>\n",
       "    </tr>\n",
       "    <tr>\n",
       "      <th>39</th>\n",
       "      <td>14</td>\n",
       "    </tr>\n",
       "    <tr>\n",
       "      <th>42</th>\n",
       "      <td>15</td>\n",
       "    </tr>\n",
       "    <tr>\n",
       "      <th>45</th>\n",
       "      <td>16</td>\n",
       "    </tr>\n",
       "    <tr>\n",
       "      <th>49</th>\n",
       "      <td>17</td>\n",
       "    </tr>\n",
       "    <tr>\n",
       "      <th>53</th>\n",
       "      <td>18</td>\n",
       "    </tr>\n",
       "    <tr>\n",
       "      <th>57</th>\n",
       "      <td>19</td>\n",
       "    </tr>\n",
       "    <tr>\n",
       "      <th>61</th>\n",
       "      <td>20</td>\n",
       "    </tr>\n",
       "    <tr>\n",
       "      <th>64</th>\n",
       "      <td>21</td>\n",
       "    </tr>\n",
       "    <tr>\n",
       "      <th>67</th>\n",
       "      <td>22</td>\n",
       "    </tr>\n",
       "    <tr>\n",
       "      <th>71</th>\n",
       "      <td>23</td>\n",
       "    </tr>\n",
       "    <tr>\n",
       "      <th>94</th>\n",
       "      <td>30</td>\n",
       "    </tr>\n",
       "    <tr>\n",
       "      <th>98</th>\n",
       "      <td>31</td>\n",
       "    </tr>\n",
       "    <tr>\n",
       "      <th>102</th>\n",
       "      <td>32</td>\n",
       "    </tr>\n",
       "    <tr>\n",
       "      <th>106</th>\n",
       "      <td>33</td>\n",
       "    </tr>\n",
       "    <tr>\n",
       "      <th>110</th>\n",
       "      <td>34</td>\n",
       "    </tr>\n",
       "    <tr>\n",
       "      <th>114</th>\n",
       "      <td>35</td>\n",
       "    </tr>\n",
       "  </tbody>\n",
       "</table>\n",
       "</div>"
      ],
      "text/plain": [
       "     episode_number\n",
       "0                 1\n",
       "3                 2\n",
       "6                 3\n",
       "9                 4\n",
       "12                5\n",
       "15                6\n",
       "18                7\n",
       "21                8\n",
       "24                9\n",
       "27               10\n",
       "30               11\n",
       "33               12\n",
       "36               13\n",
       "39               14\n",
       "42               15\n",
       "45               16\n",
       "49               17\n",
       "53               18\n",
       "57               19\n",
       "61               20\n",
       "64               21\n",
       "67               22\n",
       "71               23\n",
       "94               30\n",
       "98               31\n",
       "102              32\n",
       "106              33\n",
       "110              34\n",
       "114              35"
      ]
     },
     "execution_count": 31,
     "metadata": {},
     "output_type": "execute_result"
    }
   ],
   "source": [
    "abc = df.loc[df['ashneer_present']==1, 'episode_number']\n",
    "\n",
    "df4 = pd.DataFrame(abc)\n",
    "\n",
    "df4 = df4.drop_duplicates(subset=['episode_number'])\n",
    "\n",
    "df4"
   ]
  },
  {
   "cell_type": "code",
   "execution_count": 32,
   "id": "64478728",
   "metadata": {},
   "outputs": [
    {
     "data": {
      "text/plain": [
       "29"
      ]
     },
     "execution_count": 32,
     "metadata": {},
     "output_type": "execute_result"
    }
   ],
   "source": [
    "len(df4['episode_number'])"
   ]
  },
  {
   "cell_type": "markdown",
   "id": "dbcb3844",
   "metadata": {},
   "source": [
    "Asneer Appear in 29 Episodes out of 35 Episodes which are given above."
   ]
  },
  {
   "cell_type": "markdown",
   "id": "c7665edc",
   "metadata": {},
   "source": [
    " ## 3) Anupam Appears in these Episodes"
   ]
  },
  {
   "cell_type": "code",
   "execution_count": 33,
   "id": "a33f7bc9",
   "metadata": {},
   "outputs": [
    {
     "data": {
      "text/html": [
       "<div>\n",
       "<style scoped>\n",
       "    .dataframe tbody tr th:only-of-type {\n",
       "        vertical-align: middle;\n",
       "    }\n",
       "\n",
       "    .dataframe tbody tr th {\n",
       "        vertical-align: top;\n",
       "    }\n",
       "\n",
       "    .dataframe thead th {\n",
       "        text-align: right;\n",
       "    }\n",
       "</style>\n",
       "<table border=\"1\" class=\"dataframe\">\n",
       "  <thead>\n",
       "    <tr style=\"text-align: right;\">\n",
       "      <th></th>\n",
       "      <th>episode_number</th>\n",
       "    </tr>\n",
       "  </thead>\n",
       "  <tbody>\n",
       "    <tr>\n",
       "      <th>0</th>\n",
       "      <td>1</td>\n",
       "    </tr>\n",
       "    <tr>\n",
       "      <th>3</th>\n",
       "      <td>2</td>\n",
       "    </tr>\n",
       "    <tr>\n",
       "      <th>6</th>\n",
       "      <td>3</td>\n",
       "    </tr>\n",
       "    <tr>\n",
       "      <th>9</th>\n",
       "      <td>4</td>\n",
       "    </tr>\n",
       "    <tr>\n",
       "      <th>12</th>\n",
       "      <td>5</td>\n",
       "    </tr>\n",
       "    <tr>\n",
       "      <th>15</th>\n",
       "      <td>6</td>\n",
       "    </tr>\n",
       "    <tr>\n",
       "      <th>18</th>\n",
       "      <td>7</td>\n",
       "    </tr>\n",
       "    <tr>\n",
       "      <th>21</th>\n",
       "      <td>8</td>\n",
       "    </tr>\n",
       "    <tr>\n",
       "      <th>24</th>\n",
       "      <td>9</td>\n",
       "    </tr>\n",
       "    <tr>\n",
       "      <th>27</th>\n",
       "      <td>10</td>\n",
       "    </tr>\n",
       "    <tr>\n",
       "      <th>30</th>\n",
       "      <td>11</td>\n",
       "    </tr>\n",
       "    <tr>\n",
       "      <th>33</th>\n",
       "      <td>12</td>\n",
       "    </tr>\n",
       "    <tr>\n",
       "      <th>36</th>\n",
       "      <td>13</td>\n",
       "    </tr>\n",
       "    <tr>\n",
       "      <th>39</th>\n",
       "      <td>14</td>\n",
       "    </tr>\n",
       "    <tr>\n",
       "      <th>42</th>\n",
       "      <td>15</td>\n",
       "    </tr>\n",
       "    <tr>\n",
       "      <th>45</th>\n",
       "      <td>16</td>\n",
       "    </tr>\n",
       "    <tr>\n",
       "      <th>49</th>\n",
       "      <td>17</td>\n",
       "    </tr>\n",
       "    <tr>\n",
       "      <th>53</th>\n",
       "      <td>18</td>\n",
       "    </tr>\n",
       "    <tr>\n",
       "      <th>57</th>\n",
       "      <td>19</td>\n",
       "    </tr>\n",
       "    <tr>\n",
       "      <th>61</th>\n",
       "      <td>20</td>\n",
       "    </tr>\n",
       "    <tr>\n",
       "      <th>64</th>\n",
       "      <td>21</td>\n",
       "    </tr>\n",
       "    <tr>\n",
       "      <th>67</th>\n",
       "      <td>22</td>\n",
       "    </tr>\n",
       "    <tr>\n",
       "      <th>71</th>\n",
       "      <td>23</td>\n",
       "    </tr>\n",
       "    <tr>\n",
       "      <th>75</th>\n",
       "      <td>24</td>\n",
       "    </tr>\n",
       "    <tr>\n",
       "      <th>78</th>\n",
       "      <td>25</td>\n",
       "    </tr>\n",
       "    <tr>\n",
       "      <th>81</th>\n",
       "      <td>26</td>\n",
       "    </tr>\n",
       "    <tr>\n",
       "      <th>84</th>\n",
       "      <td>27</td>\n",
       "    </tr>\n",
       "    <tr>\n",
       "      <th>88</th>\n",
       "      <td>28</td>\n",
       "    </tr>\n",
       "    <tr>\n",
       "      <th>91</th>\n",
       "      <td>29</td>\n",
       "    </tr>\n",
       "    <tr>\n",
       "      <th>94</th>\n",
       "      <td>30</td>\n",
       "    </tr>\n",
       "    <tr>\n",
       "      <th>98</th>\n",
       "      <td>31</td>\n",
       "    </tr>\n",
       "    <tr>\n",
       "      <th>102</th>\n",
       "      <td>32</td>\n",
       "    </tr>\n",
       "    <tr>\n",
       "      <th>106</th>\n",
       "      <td>33</td>\n",
       "    </tr>\n",
       "    <tr>\n",
       "      <th>110</th>\n",
       "      <td>34</td>\n",
       "    </tr>\n",
       "    <tr>\n",
       "      <th>114</th>\n",
       "      <td>35</td>\n",
       "    </tr>\n",
       "  </tbody>\n",
       "</table>\n",
       "</div>"
      ],
      "text/plain": [
       "     episode_number\n",
       "0                 1\n",
       "3                 2\n",
       "6                 3\n",
       "9                 4\n",
       "12                5\n",
       "15                6\n",
       "18                7\n",
       "21                8\n",
       "24                9\n",
       "27               10\n",
       "30               11\n",
       "33               12\n",
       "36               13\n",
       "39               14\n",
       "42               15\n",
       "45               16\n",
       "49               17\n",
       "53               18\n",
       "57               19\n",
       "61               20\n",
       "64               21\n",
       "67               22\n",
       "71               23\n",
       "75               24\n",
       "78               25\n",
       "81               26\n",
       "84               27\n",
       "88               28\n",
       "91               29\n",
       "94               30\n",
       "98               31\n",
       "102              32\n",
       "106              33\n",
       "110              34\n",
       "114              35"
      ]
     },
     "execution_count": 33,
     "metadata": {},
     "output_type": "execute_result"
    }
   ],
   "source": [
    "abc = df.loc[df['anupam_present']==1, 'episode_number']\n",
    "\n",
    "df5 = pd.DataFrame(abc)\n",
    "\n",
    "df5 = df5.drop_duplicates(subset=['episode_number'])\n",
    "\n",
    "df5"
   ]
  },
  {
   "cell_type": "code",
   "execution_count": 34,
   "id": "e799dc4e",
   "metadata": {},
   "outputs": [
    {
     "data": {
      "text/plain": [
       "35"
      ]
     },
     "execution_count": 34,
     "metadata": {},
     "output_type": "execute_result"
    }
   ],
   "source": [
    "len(df5['episode_number'])"
   ]
  },
  {
   "cell_type": "markdown",
   "id": "29ef7c22",
   "metadata": {},
   "source": [
    "Anupam Appear in 35 Episodes out of 35 Episodes which are given above."
   ]
  },
  {
   "cell_type": "markdown",
   "id": "f4b8903c",
   "metadata": {},
   "source": [
    "## 4) Aman appears in these Episodes"
   ]
  },
  {
   "cell_type": "code",
   "execution_count": 35,
   "id": "e298b5b4",
   "metadata": {},
   "outputs": [
    {
     "data": {
      "text/html": [
       "<div>\n",
       "<style scoped>\n",
       "    .dataframe tbody tr th:only-of-type {\n",
       "        vertical-align: middle;\n",
       "    }\n",
       "\n",
       "    .dataframe tbody tr th {\n",
       "        vertical-align: top;\n",
       "    }\n",
       "\n",
       "    .dataframe thead th {\n",
       "        text-align: right;\n",
       "    }\n",
       "</style>\n",
       "<table border=\"1\" class=\"dataframe\">\n",
       "  <thead>\n",
       "    <tr style=\"text-align: right;\">\n",
       "      <th></th>\n",
       "      <th>episode_number</th>\n",
       "    </tr>\n",
       "  </thead>\n",
       "  <tbody>\n",
       "    <tr>\n",
       "      <th>0</th>\n",
       "      <td>1</td>\n",
       "    </tr>\n",
       "    <tr>\n",
       "      <th>3</th>\n",
       "      <td>2</td>\n",
       "    </tr>\n",
       "    <tr>\n",
       "      <th>6</th>\n",
       "      <td>3</td>\n",
       "    </tr>\n",
       "    <tr>\n",
       "      <th>9</th>\n",
       "      <td>4</td>\n",
       "    </tr>\n",
       "    <tr>\n",
       "      <th>12</th>\n",
       "      <td>5</td>\n",
       "    </tr>\n",
       "    <tr>\n",
       "      <th>15</th>\n",
       "      <td>6</td>\n",
       "    </tr>\n",
       "    <tr>\n",
       "      <th>18</th>\n",
       "      <td>7</td>\n",
       "    </tr>\n",
       "    <tr>\n",
       "      <th>21</th>\n",
       "      <td>8</td>\n",
       "    </tr>\n",
       "    <tr>\n",
       "      <th>24</th>\n",
       "      <td>9</td>\n",
       "    </tr>\n",
       "    <tr>\n",
       "      <th>27</th>\n",
       "      <td>10</td>\n",
       "    </tr>\n",
       "    <tr>\n",
       "      <th>30</th>\n",
       "      <td>11</td>\n",
       "    </tr>\n",
       "    <tr>\n",
       "      <th>33</th>\n",
       "      <td>12</td>\n",
       "    </tr>\n",
       "    <tr>\n",
       "      <th>36</th>\n",
       "      <td>13</td>\n",
       "    </tr>\n",
       "    <tr>\n",
       "      <th>39</th>\n",
       "      <td>14</td>\n",
       "    </tr>\n",
       "    <tr>\n",
       "      <th>42</th>\n",
       "      <td>15</td>\n",
       "    </tr>\n",
       "    <tr>\n",
       "      <th>45</th>\n",
       "      <td>16</td>\n",
       "    </tr>\n",
       "    <tr>\n",
       "      <th>49</th>\n",
       "      <td>17</td>\n",
       "    </tr>\n",
       "    <tr>\n",
       "      <th>53</th>\n",
       "      <td>18</td>\n",
       "    </tr>\n",
       "    <tr>\n",
       "      <th>57</th>\n",
       "      <td>19</td>\n",
       "    </tr>\n",
       "    <tr>\n",
       "      <th>61</th>\n",
       "      <td>20</td>\n",
       "    </tr>\n",
       "    <tr>\n",
       "      <th>64</th>\n",
       "      <td>21</td>\n",
       "    </tr>\n",
       "    <tr>\n",
       "      <th>67</th>\n",
       "      <td>22</td>\n",
       "    </tr>\n",
       "    <tr>\n",
       "      <th>71</th>\n",
       "      <td>23</td>\n",
       "    </tr>\n",
       "    <tr>\n",
       "      <th>94</th>\n",
       "      <td>30</td>\n",
       "    </tr>\n",
       "    <tr>\n",
       "      <th>98</th>\n",
       "      <td>31</td>\n",
       "    </tr>\n",
       "    <tr>\n",
       "      <th>102</th>\n",
       "      <td>32</td>\n",
       "    </tr>\n",
       "    <tr>\n",
       "      <th>106</th>\n",
       "      <td>33</td>\n",
       "    </tr>\n",
       "    <tr>\n",
       "      <th>110</th>\n",
       "      <td>34</td>\n",
       "    </tr>\n",
       "    <tr>\n",
       "      <th>114</th>\n",
       "      <td>35</td>\n",
       "    </tr>\n",
       "  </tbody>\n",
       "</table>\n",
       "</div>"
      ],
      "text/plain": [
       "     episode_number\n",
       "0                 1\n",
       "3                 2\n",
       "6                 3\n",
       "9                 4\n",
       "12                5\n",
       "15                6\n",
       "18                7\n",
       "21                8\n",
       "24                9\n",
       "27               10\n",
       "30               11\n",
       "33               12\n",
       "36               13\n",
       "39               14\n",
       "42               15\n",
       "45               16\n",
       "49               17\n",
       "53               18\n",
       "57               19\n",
       "61               20\n",
       "64               21\n",
       "67               22\n",
       "71               23\n",
       "94               30\n",
       "98               31\n",
       "102              32\n",
       "106              33\n",
       "110              34\n",
       "114              35"
      ]
     },
     "execution_count": 35,
     "metadata": {},
     "output_type": "execute_result"
    }
   ],
   "source": [
    "abc = df.loc[df['aman_present']==1, 'episode_number']\n",
    "\n",
    "df5 = pd.DataFrame(abc)\n",
    "\n",
    "df5 = df5.drop_duplicates(subset=['episode_number'])\n",
    "\n",
    "df5"
   ]
  },
  {
   "cell_type": "code",
   "execution_count": 36,
   "id": "f8e898f7",
   "metadata": {},
   "outputs": [
    {
     "data": {
      "text/plain": [
       "29"
      ]
     },
     "execution_count": 36,
     "metadata": {},
     "output_type": "execute_result"
    }
   ],
   "source": [
    "len(df5['episode_number'])"
   ]
  },
  {
   "cell_type": "markdown",
   "id": "a7ed07b9",
   "metadata": {},
   "source": [
    "Aman Appear in 29 Episodes out of 35 Episodes which are given above."
   ]
  },
  {
   "cell_type": "markdown",
   "id": "3e51491f",
   "metadata": {},
   "source": [
    "## 5) Namita appears in these Episodes"
   ]
  },
  {
   "cell_type": "code",
   "execution_count": 37,
   "id": "b606e5b8",
   "metadata": {},
   "outputs": [
    {
     "data": {
      "text/html": [
       "<div>\n",
       "<style scoped>\n",
       "    .dataframe tbody tr th:only-of-type {\n",
       "        vertical-align: middle;\n",
       "    }\n",
       "\n",
       "    .dataframe tbody tr th {\n",
       "        vertical-align: top;\n",
       "    }\n",
       "\n",
       "    .dataframe thead th {\n",
       "        text-align: right;\n",
       "    }\n",
       "</style>\n",
       "<table border=\"1\" class=\"dataframe\">\n",
       "  <thead>\n",
       "    <tr style=\"text-align: right;\">\n",
       "      <th></th>\n",
       "      <th>episode_number</th>\n",
       "    </tr>\n",
       "  </thead>\n",
       "  <tbody>\n",
       "    <tr>\n",
       "      <th>0</th>\n",
       "      <td>1</td>\n",
       "    </tr>\n",
       "    <tr>\n",
       "      <th>3</th>\n",
       "      <td>2</td>\n",
       "    </tr>\n",
       "    <tr>\n",
       "      <th>6</th>\n",
       "      <td>3</td>\n",
       "    </tr>\n",
       "    <tr>\n",
       "      <th>9</th>\n",
       "      <td>4</td>\n",
       "    </tr>\n",
       "    <tr>\n",
       "      <th>12</th>\n",
       "      <td>5</td>\n",
       "    </tr>\n",
       "    <tr>\n",
       "      <th>15</th>\n",
       "      <td>6</td>\n",
       "    </tr>\n",
       "    <tr>\n",
       "      <th>18</th>\n",
       "      <td>7</td>\n",
       "    </tr>\n",
       "    <tr>\n",
       "      <th>21</th>\n",
       "      <td>8</td>\n",
       "    </tr>\n",
       "    <tr>\n",
       "      <th>24</th>\n",
       "      <td>9</td>\n",
       "    </tr>\n",
       "    <tr>\n",
       "      <th>27</th>\n",
       "      <td>10</td>\n",
       "    </tr>\n",
       "    <tr>\n",
       "      <th>30</th>\n",
       "      <td>11</td>\n",
       "    </tr>\n",
       "    <tr>\n",
       "      <th>33</th>\n",
       "      <td>12</td>\n",
       "    </tr>\n",
       "    <tr>\n",
       "      <th>36</th>\n",
       "      <td>13</td>\n",
       "    </tr>\n",
       "    <tr>\n",
       "      <th>39</th>\n",
       "      <td>14</td>\n",
       "    </tr>\n",
       "    <tr>\n",
       "      <th>42</th>\n",
       "      <td>15</td>\n",
       "    </tr>\n",
       "    <tr>\n",
       "      <th>45</th>\n",
       "      <td>16</td>\n",
       "    </tr>\n",
       "    <tr>\n",
       "      <th>49</th>\n",
       "      <td>17</td>\n",
       "    </tr>\n",
       "    <tr>\n",
       "      <th>53</th>\n",
       "      <td>18</td>\n",
       "    </tr>\n",
       "    <tr>\n",
       "      <th>57</th>\n",
       "      <td>19</td>\n",
       "    </tr>\n",
       "    <tr>\n",
       "      <th>61</th>\n",
       "      <td>20</td>\n",
       "    </tr>\n",
       "    <tr>\n",
       "      <th>75</th>\n",
       "      <td>24</td>\n",
       "    </tr>\n",
       "    <tr>\n",
       "      <th>78</th>\n",
       "      <td>25</td>\n",
       "    </tr>\n",
       "    <tr>\n",
       "      <th>81</th>\n",
       "      <td>26</td>\n",
       "    </tr>\n",
       "    <tr>\n",
       "      <th>84</th>\n",
       "      <td>27</td>\n",
       "    </tr>\n",
       "    <tr>\n",
       "      <th>88</th>\n",
       "      <td>28</td>\n",
       "    </tr>\n",
       "    <tr>\n",
       "      <th>91</th>\n",
       "      <td>29</td>\n",
       "    </tr>\n",
       "    <tr>\n",
       "      <th>94</th>\n",
       "      <td>30</td>\n",
       "    </tr>\n",
       "    <tr>\n",
       "      <th>98</th>\n",
       "      <td>31</td>\n",
       "    </tr>\n",
       "    <tr>\n",
       "      <th>102</th>\n",
       "      <td>32</td>\n",
       "    </tr>\n",
       "    <tr>\n",
       "      <th>106</th>\n",
       "      <td>33</td>\n",
       "    </tr>\n",
       "    <tr>\n",
       "      <th>110</th>\n",
       "      <td>34</td>\n",
       "    </tr>\n",
       "    <tr>\n",
       "      <th>114</th>\n",
       "      <td>35</td>\n",
       "    </tr>\n",
       "  </tbody>\n",
       "</table>\n",
       "</div>"
      ],
      "text/plain": [
       "     episode_number\n",
       "0                 1\n",
       "3                 2\n",
       "6                 3\n",
       "9                 4\n",
       "12                5\n",
       "15                6\n",
       "18                7\n",
       "21                8\n",
       "24                9\n",
       "27               10\n",
       "30               11\n",
       "33               12\n",
       "36               13\n",
       "39               14\n",
       "42               15\n",
       "45               16\n",
       "49               17\n",
       "53               18\n",
       "57               19\n",
       "61               20\n",
       "75               24\n",
       "78               25\n",
       "81               26\n",
       "84               27\n",
       "88               28\n",
       "91               29\n",
       "94               30\n",
       "98               31\n",
       "102              32\n",
       "106              33\n",
       "110              34\n",
       "114              35"
      ]
     },
     "execution_count": 37,
     "metadata": {},
     "output_type": "execute_result"
    }
   ],
   "source": [
    "abc = df.loc[df['namita_present']==1, 'episode_number']\n",
    "\n",
    "df6 = pd.DataFrame(abc)\n",
    "\n",
    "df6 = df6.drop_duplicates(subset=['episode_number'])\n",
    "\n",
    "df6"
   ]
  },
  {
   "cell_type": "code",
   "execution_count": 38,
   "id": "5d3e86ca",
   "metadata": {},
   "outputs": [
    {
     "data": {
      "text/plain": [
       "32"
      ]
     },
     "execution_count": 38,
     "metadata": {},
     "output_type": "execute_result"
    }
   ],
   "source": [
    "len(df6['episode_number'])"
   ]
  },
  {
   "cell_type": "markdown",
   "id": "b53acfdf",
   "metadata": {},
   "source": [
    "Namita Appear in 32 Episodes out of 35 Episodes which are given above."
   ]
  },
  {
   "cell_type": "markdown",
   "id": "d327480e",
   "metadata": {},
   "source": [
    "## 6) Peyush appears in these Episodes"
   ]
  },
  {
   "cell_type": "code",
   "execution_count": 39,
   "id": "34859718",
   "metadata": {},
   "outputs": [
    {
     "data": {
      "text/html": [
       "<div>\n",
       "<style scoped>\n",
       "    .dataframe tbody tr th:only-of-type {\n",
       "        vertical-align: middle;\n",
       "    }\n",
       "\n",
       "    .dataframe tbody tr th {\n",
       "        vertical-align: top;\n",
       "    }\n",
       "\n",
       "    .dataframe thead th {\n",
       "        text-align: right;\n",
       "    }\n",
       "</style>\n",
       "<table border=\"1\" class=\"dataframe\">\n",
       "  <thead>\n",
       "    <tr style=\"text-align: right;\">\n",
       "      <th></th>\n",
       "      <th>episode_number</th>\n",
       "    </tr>\n",
       "  </thead>\n",
       "  <tbody>\n",
       "    <tr>\n",
       "      <th>21</th>\n",
       "      <td>8</td>\n",
       "    </tr>\n",
       "    <tr>\n",
       "      <th>24</th>\n",
       "      <td>9</td>\n",
       "    </tr>\n",
       "    <tr>\n",
       "      <th>27</th>\n",
       "      <td>10</td>\n",
       "    </tr>\n",
       "    <tr>\n",
       "      <th>30</th>\n",
       "      <td>11</td>\n",
       "    </tr>\n",
       "    <tr>\n",
       "      <th>33</th>\n",
       "      <td>12</td>\n",
       "    </tr>\n",
       "    <tr>\n",
       "      <th>36</th>\n",
       "      <td>13</td>\n",
       "    </tr>\n",
       "    <tr>\n",
       "      <th>39</th>\n",
       "      <td>14</td>\n",
       "    </tr>\n",
       "    <tr>\n",
       "      <th>42</th>\n",
       "      <td>15</td>\n",
       "    </tr>\n",
       "    <tr>\n",
       "      <th>45</th>\n",
       "      <td>16</td>\n",
       "    </tr>\n",
       "    <tr>\n",
       "      <th>49</th>\n",
       "      <td>17</td>\n",
       "    </tr>\n",
       "    <tr>\n",
       "      <th>53</th>\n",
       "      <td>18</td>\n",
       "    </tr>\n",
       "    <tr>\n",
       "      <th>57</th>\n",
       "      <td>19</td>\n",
       "    </tr>\n",
       "    <tr>\n",
       "      <th>61</th>\n",
       "      <td>20</td>\n",
       "    </tr>\n",
       "    <tr>\n",
       "      <th>64</th>\n",
       "      <td>21</td>\n",
       "    </tr>\n",
       "    <tr>\n",
       "      <th>67</th>\n",
       "      <td>22</td>\n",
       "    </tr>\n",
       "    <tr>\n",
       "      <th>71</th>\n",
       "      <td>23</td>\n",
       "    </tr>\n",
       "    <tr>\n",
       "      <th>75</th>\n",
       "      <td>24</td>\n",
       "    </tr>\n",
       "    <tr>\n",
       "      <th>78</th>\n",
       "      <td>25</td>\n",
       "    </tr>\n",
       "    <tr>\n",
       "      <th>81</th>\n",
       "      <td>26</td>\n",
       "    </tr>\n",
       "    <tr>\n",
       "      <th>84</th>\n",
       "      <td>27</td>\n",
       "    </tr>\n",
       "    <tr>\n",
       "      <th>88</th>\n",
       "      <td>28</td>\n",
       "    </tr>\n",
       "    <tr>\n",
       "      <th>91</th>\n",
       "      <td>29</td>\n",
       "    </tr>\n",
       "    <tr>\n",
       "      <th>102</th>\n",
       "      <td>32</td>\n",
       "    </tr>\n",
       "    <tr>\n",
       "      <th>106</th>\n",
       "      <td>33</td>\n",
       "    </tr>\n",
       "    <tr>\n",
       "      <th>110</th>\n",
       "      <td>34</td>\n",
       "    </tr>\n",
       "    <tr>\n",
       "      <th>114</th>\n",
       "      <td>35</td>\n",
       "    </tr>\n",
       "  </tbody>\n",
       "</table>\n",
       "</div>"
      ],
      "text/plain": [
       "     episode_number\n",
       "21                8\n",
       "24                9\n",
       "27               10\n",
       "30               11\n",
       "33               12\n",
       "36               13\n",
       "39               14\n",
       "42               15\n",
       "45               16\n",
       "49               17\n",
       "53               18\n",
       "57               19\n",
       "61               20\n",
       "64               21\n",
       "67               22\n",
       "71               23\n",
       "75               24\n",
       "78               25\n",
       "81               26\n",
       "84               27\n",
       "88               28\n",
       "91               29\n",
       "102              32\n",
       "106              33\n",
       "110              34\n",
       "114              35"
      ]
     },
     "execution_count": 39,
     "metadata": {},
     "output_type": "execute_result"
    }
   ],
   "source": [
    "abc = df.loc[df['peyush_present']==1, 'episode_number']\n",
    "\n",
    "df7 = pd.DataFrame(abc)\n",
    "\n",
    "df7 = df7.drop_duplicates(subset=['episode_number'])\n",
    "\n",
    "df7"
   ]
  },
  {
   "cell_type": "code",
   "execution_count": 40,
   "id": "64824726",
   "metadata": {},
   "outputs": [
    {
     "data": {
      "text/plain": [
       "26"
      ]
     },
     "execution_count": 40,
     "metadata": {},
     "output_type": "execute_result"
    }
   ],
   "source": [
    "len(df7['episode_number'])"
   ]
  },
  {
   "cell_type": "markdown",
   "id": "034dd8f1",
   "metadata": {},
   "source": [
    "Peyush Appear in 26 Episodes out of 35 Episodes which are given above."
   ]
  },
  {
   "cell_type": "markdown",
   "id": "50322d9f",
   "metadata": {},
   "source": [
    "## 7) Vineeta Appears in These Episodes"
   ]
  },
  {
   "cell_type": "code",
   "execution_count": 41,
   "id": "94b815a6",
   "metadata": {},
   "outputs": [
    {
     "data": {
      "text/html": [
       "<div>\n",
       "<style scoped>\n",
       "    .dataframe tbody tr th:only-of-type {\n",
       "        vertical-align: middle;\n",
       "    }\n",
       "\n",
       "    .dataframe tbody tr th {\n",
       "        vertical-align: top;\n",
       "    }\n",
       "\n",
       "    .dataframe thead th {\n",
       "        text-align: right;\n",
       "    }\n",
       "</style>\n",
       "<table border=\"1\" class=\"dataframe\">\n",
       "  <thead>\n",
       "    <tr style=\"text-align: right;\">\n",
       "      <th></th>\n",
       "      <th>episode_number</th>\n",
       "    </tr>\n",
       "  </thead>\n",
       "  <tbody>\n",
       "    <tr>\n",
       "      <th>0</th>\n",
       "      <td>1</td>\n",
       "    </tr>\n",
       "    <tr>\n",
       "      <th>3</th>\n",
       "      <td>2</td>\n",
       "    </tr>\n",
       "    <tr>\n",
       "      <th>6</th>\n",
       "      <td>3</td>\n",
       "    </tr>\n",
       "    <tr>\n",
       "      <th>9</th>\n",
       "      <td>4</td>\n",
       "    </tr>\n",
       "    <tr>\n",
       "      <th>12</th>\n",
       "      <td>5</td>\n",
       "    </tr>\n",
       "    <tr>\n",
       "      <th>15</th>\n",
       "      <td>6</td>\n",
       "    </tr>\n",
       "    <tr>\n",
       "      <th>18</th>\n",
       "      <td>7</td>\n",
       "    </tr>\n",
       "    <tr>\n",
       "      <th>64</th>\n",
       "      <td>21</td>\n",
       "    </tr>\n",
       "    <tr>\n",
       "      <th>67</th>\n",
       "      <td>22</td>\n",
       "    </tr>\n",
       "    <tr>\n",
       "      <th>71</th>\n",
       "      <td>23</td>\n",
       "    </tr>\n",
       "    <tr>\n",
       "      <th>75</th>\n",
       "      <td>24</td>\n",
       "    </tr>\n",
       "    <tr>\n",
       "      <th>78</th>\n",
       "      <td>25</td>\n",
       "    </tr>\n",
       "    <tr>\n",
       "      <th>81</th>\n",
       "      <td>26</td>\n",
       "    </tr>\n",
       "    <tr>\n",
       "      <th>84</th>\n",
       "      <td>27</td>\n",
       "    </tr>\n",
       "    <tr>\n",
       "      <th>88</th>\n",
       "      <td>28</td>\n",
       "    </tr>\n",
       "    <tr>\n",
       "      <th>91</th>\n",
       "      <td>29</td>\n",
       "    </tr>\n",
       "    <tr>\n",
       "      <th>94</th>\n",
       "      <td>30</td>\n",
       "    </tr>\n",
       "    <tr>\n",
       "      <th>98</th>\n",
       "      <td>31</td>\n",
       "    </tr>\n",
       "    <tr>\n",
       "      <th>110</th>\n",
       "      <td>34</td>\n",
       "    </tr>\n",
       "    <tr>\n",
       "      <th>114</th>\n",
       "      <td>35</td>\n",
       "    </tr>\n",
       "  </tbody>\n",
       "</table>\n",
       "</div>"
      ],
      "text/plain": [
       "     episode_number\n",
       "0                 1\n",
       "3                 2\n",
       "6                 3\n",
       "9                 4\n",
       "12                5\n",
       "15                6\n",
       "18                7\n",
       "64               21\n",
       "67               22\n",
       "71               23\n",
       "75               24\n",
       "78               25\n",
       "81               26\n",
       "84               27\n",
       "88               28\n",
       "91               29\n",
       "94               30\n",
       "98               31\n",
       "110              34\n",
       "114              35"
      ]
     },
     "execution_count": 41,
     "metadata": {},
     "output_type": "execute_result"
    }
   ],
   "source": [
    "abc = df.loc[df['vineeta_present']==1, 'episode_number']\n",
    "\n",
    "df8 = pd.DataFrame(abc)\n",
    "\n",
    "df8 = df8.drop_duplicates(subset=['episode_number'])\n",
    "\n",
    "df8"
   ]
  },
  {
   "cell_type": "code",
   "execution_count": 42,
   "id": "f108c906",
   "metadata": {},
   "outputs": [
    {
     "data": {
      "text/plain": [
       "20"
      ]
     },
     "execution_count": 42,
     "metadata": {},
     "output_type": "execute_result"
    }
   ],
   "source": [
    "len(df8['episode_number'])"
   ]
  },
  {
   "cell_type": "markdown",
   "id": "cf2e6f0e",
   "metadata": {},
   "source": [
    "Vineeta Appear in 20 Episodes out of 35 Episodes which are given above."
   ]
  },
  {
   "cell_type": "markdown",
   "id": "dac13419",
   "metadata": {},
   "source": [
    "# Q12. How many entrepreneurs were present? "
   ]
  },
  {
   "cell_type": "code",
   "execution_count": 43,
   "id": "740a75ab",
   "metadata": {},
   "outputs": [
    {
     "data": {
      "text/plain": [
       "117"
      ]
     },
     "execution_count": 43,
     "metadata": {},
     "output_type": "execute_result"
    }
   ],
   "source": [
    "df.pitch_number.max()"
   ]
  },
  {
   "cell_type": "markdown",
   "id": "12fd97dd",
   "metadata": {},
   "source": [
    "* There are total 117 entrepreneurs presented who pitched their business."
   ]
  },
  {
   "cell_type": "markdown",
   "id": "253b4427",
   "metadata": {},
   "source": [
    "# Q13. How many times each shark invested the deal?"
   ]
  },
  {
   "cell_type": "code",
   "execution_count": 44,
   "id": "0ea86873",
   "metadata": {},
   "outputs": [
    {
     "data": {
      "text/plain": [
       "0    96\n",
       "1    21\n",
       "Name: ashneer_deal, dtype: int64"
      ]
     },
     "execution_count": 44,
     "metadata": {},
     "output_type": "execute_result"
    }
   ],
   "source": [
    "df.ashneer_deal.value_counts()"
   ]
  },
  {
   "cell_type": "code",
   "execution_count": 45,
   "id": "e07550cb",
   "metadata": {},
   "outputs": [
    {
     "data": {
      "text/plain": [
       "0    93\n",
       "1    24\n",
       "Name: anupam_deal, dtype: int64"
      ]
     },
     "execution_count": 45,
     "metadata": {},
     "output_type": "execute_result"
    }
   ],
   "source": [
    "df.anupam_deal.value_counts()"
   ]
  },
  {
   "cell_type": "code",
   "execution_count": 46,
   "id": "02adc2e5",
   "metadata": {},
   "outputs": [
    {
     "data": {
      "text/plain": [
       "0    89\n",
       "1    28\n",
       "Name: aman_deal, dtype: int64"
      ]
     },
     "execution_count": 46,
     "metadata": {},
     "output_type": "execute_result"
    }
   ],
   "source": [
    "df.aman_deal.value_counts()"
   ]
  },
  {
   "cell_type": "code",
   "execution_count": 47,
   "id": "aaad4162",
   "metadata": {},
   "outputs": [
    {
     "data": {
      "text/plain": [
       "0    95\n",
       "1    22\n",
       "Name: namita_deal, dtype: int64"
      ]
     },
     "execution_count": 47,
     "metadata": {},
     "output_type": "execute_result"
    }
   ],
   "source": [
    "df.namita_deal.value_counts()"
   ]
  },
  {
   "cell_type": "code",
   "execution_count": 48,
   "id": "b75f39c6",
   "metadata": {},
   "outputs": [
    {
     "data": {
      "text/plain": [
       "0    102\n",
       "1     15\n",
       "Name: vineeta_deal, dtype: int64"
      ]
     },
     "execution_count": 48,
     "metadata": {},
     "output_type": "execute_result"
    }
   ],
   "source": [
    "df.vineeta_deal.value_counts()"
   ]
  },
  {
   "cell_type": "code",
   "execution_count": 49,
   "id": "01f0e83d",
   "metadata": {},
   "outputs": [
    {
     "data": {
      "text/plain": [
       "0    90\n",
       "1    27\n",
       "Name: peyush_deal, dtype: int64"
      ]
     },
     "execution_count": 49,
     "metadata": {},
     "output_type": "execute_result"
    }
   ],
   "source": [
    "df.peyush_deal.value_counts()"
   ]
  },
  {
   "cell_type": "code",
   "execution_count": 50,
   "id": "3fb9cc98",
   "metadata": {},
   "outputs": [
    {
     "data": {
      "text/plain": [
       "0    110\n",
       "1      7\n",
       "Name: ghazal_deal, dtype: int64"
      ]
     },
     "execution_count": 50,
     "metadata": {},
     "output_type": "execute_result"
    }
   ],
   "source": [
    "df.ghazal_deal.value_counts()"
   ]
  },
  {
   "cell_type": "markdown",
   "id": "23d9c55c",
   "metadata": {},
   "source": [
    "* Ashneer invested 21 times.\n",
    "\n",
    "\n",
    "* Anupam invested 24 times.\n",
    "\n",
    "\n",
    "* Aman invested 28 times.\n",
    "\n",
    "\n",
    "* Namita invested 22 times.\n",
    "\n",
    "\n",
    "* Vineeta invested 15 times.\n",
    "\n",
    "\n",
    "* Peyush invested 27 times.\n",
    "\n",
    "\n",
    "* Ghazal invested 7 times."
   ]
  },
  {
   "cell_type": "markdown",
   "id": "05d89280",
   "metadata": {},
   "source": [
    "# Q14. Find the equity percent that each sharks gets? "
   ]
  },
  {
   "cell_type": "code",
   "execution_count": 51,
   "id": "812e1a97",
   "metadata": {},
   "outputs": [
    {
     "data": {
      "text/html": [
       "<div>\n",
       "<style scoped>\n",
       "    .dataframe tbody tr th:only-of-type {\n",
       "        vertical-align: middle;\n",
       "    }\n",
       "\n",
       "    .dataframe tbody tr th {\n",
       "        vertical-align: top;\n",
       "    }\n",
       "\n",
       "    .dataframe thead th {\n",
       "        text-align: right;\n",
       "    }\n",
       "</style>\n",
       "<table border=\"1\" class=\"dataframe\">\n",
       "  <thead>\n",
       "    <tr style=\"text-align: right;\">\n",
       "      <th></th>\n",
       "      <th>brand_name</th>\n",
       "      <th>equity_per_shark</th>\n",
       "    </tr>\n",
       "  </thead>\n",
       "  <tbody>\n",
       "    <tr>\n",
       "      <th>0</th>\n",
       "      <td>BluePine Industries</td>\n",
       "      <td>5.333333</td>\n",
       "    </tr>\n",
       "    <tr>\n",
       "      <th>1</th>\n",
       "      <td>Booz scooters</td>\n",
       "      <td>25.000000</td>\n",
       "    </tr>\n",
       "    <tr>\n",
       "      <th>2</th>\n",
       "      <td>Heart up my Sleeves</td>\n",
       "      <td>15.000000</td>\n",
       "    </tr>\n",
       "    <tr>\n",
       "      <th>3</th>\n",
       "      <td>Tagz Foods</td>\n",
       "      <td>2.750000</td>\n",
       "    </tr>\n",
       "    <tr>\n",
       "      <th>7</th>\n",
       "      <td>Peeschute</td>\n",
       "      <td>6.000000</td>\n",
       "    </tr>\n",
       "    <tr>\n",
       "      <th>...</th>\n",
       "      <td>...</td>\n",
       "      <td>...</td>\n",
       "    </tr>\n",
       "    <tr>\n",
       "      <th>106</th>\n",
       "      <td>Colour Me Mad</td>\n",
       "      <td>25.000000</td>\n",
       "    </tr>\n",
       "    <tr>\n",
       "      <th>108</th>\n",
       "      <td>Tweek Labs</td>\n",
       "      <td>3.333333</td>\n",
       "    </tr>\n",
       "    <tr>\n",
       "      <th>109</th>\n",
       "      <td>Proxgy</td>\n",
       "      <td>5.000000</td>\n",
       "    </tr>\n",
       "    <tr>\n",
       "      <th>110</th>\n",
       "      <td>Nomad Food Project</td>\n",
       "      <td>5.000000</td>\n",
       "    </tr>\n",
       "    <tr>\n",
       "      <th>114</th>\n",
       "      <td>Jain Shikanji</td>\n",
       "      <td>7.500000</td>\n",
       "    </tr>\n",
       "  </tbody>\n",
       "</table>\n",
       "<p>64 rows × 2 columns</p>\n",
       "</div>"
      ],
      "text/plain": [
       "              brand_name  equity_per_shark\n",
       "0    BluePine Industries          5.333333\n",
       "1          Booz scooters         25.000000\n",
       "2    Heart up my Sleeves         15.000000\n",
       "3             Tagz Foods          2.750000\n",
       "7              Peeschute          6.000000\n",
       "..                   ...               ...\n",
       "106        Colour Me Mad         25.000000\n",
       "108           Tweek Labs          3.333333\n",
       "109               Proxgy          5.000000\n",
       "110   Nomad Food Project          5.000000\n",
       "114        Jain Shikanji          7.500000\n",
       "\n",
       "[64 rows x 2 columns]"
      ]
     },
     "execution_count": 51,
     "metadata": {},
     "output_type": "execute_result"
    }
   ],
   "source": [
    "df10 = df.loc[(df['deal'] == 1) & (df['equity_per_shark'] > 0) & (df['brand_name'])]\n",
    "df10 = pd.DataFrame(df10)\n",
    "X = df10[['brand_name','equity_per_shark']]\n",
    "X"
   ]
  },
  {
   "cell_type": "markdown",
   "id": "340f1e95",
   "metadata": {},
   "source": [
    "These are the brands which gets the deal and Equity Percentage that each shark get"
   ]
  },
  {
   "cell_type": "markdown",
   "id": "66118596",
   "metadata": {},
   "source": [
    "# Q15. Find the total number of amount invested in this show? "
   ]
  },
  {
   "cell_type": "code",
   "execution_count": 52,
   "id": "2665d817",
   "metadata": {},
   "outputs": [
    {
     "data": {
      "text/plain": [
       "3742.00106"
      ]
     },
     "execution_count": 52,
     "metadata": {},
     "output_type": "execute_result"
    }
   ],
   "source": [
    "df.deal_amount.sum()"
   ]
  },
  {
   "cell_type": "markdown",
   "id": "f811879d",
   "metadata": {},
   "source": [
    "Total Amount Invested by all Sharks in the Show is 37 Crores 42 Lakh 106 Rupees "
   ]
  }
 ],
 "metadata": {
  "kernelspec": {
   "display_name": "Python 3 (ipykernel)",
   "language": "python",
   "name": "python3"
  },
  "language_info": {
   "codemirror_mode": {
    "name": "ipython",
    "version": 3
   },
   "file_extension": ".py",
   "mimetype": "text/x-python",
   "name": "python",
   "nbconvert_exporter": "python",
   "pygments_lexer": "ipython3",
   "version": "3.9.13"
  }
 },
 "nbformat": 4,
 "nbformat_minor": 5
}
